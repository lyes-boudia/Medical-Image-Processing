{
 "cells": [
  {
   "cell_type": "markdown",
   "id": "e527a9d1",
   "metadata": {},
   "source": [
    "# Objective 2 3D Coregistration"
   ]
  },
  {
   "cell_type": "code",
   "execution_count": null,
   "id": "a467da16",
   "metadata": {},
   "outputs": [],
   "source": [
    "import os\n",
    "\n",
    "import matplotlib\n",
    "import pydicom\n",
    "import numpy as np\n",
    "import scipy\n",
    "from matplotlib import pyplot as plt, animation\n",
    "import highdicom\n",
    "from highdicom.seg import Segmentation\n",
    "from pydicom import dcmread\n",
    "from pathlib import Path"
   ]
  },
  {
   "cell_type": "code",
   "execution_count": null,
   "id": "5bb077e9",
   "metadata": {},
   "outputs": [],
   "source": []
  }
 ],
 "metadata": {
  "kernelspec": {
   "display_name": "base",
   "language": "python",
   "name": "python3"
  },
  "language_info": {
   "name": "python",
   "version": "3.9.18"
  }
 },
 "nbformat": 4,
 "nbformat_minor": 5
}
